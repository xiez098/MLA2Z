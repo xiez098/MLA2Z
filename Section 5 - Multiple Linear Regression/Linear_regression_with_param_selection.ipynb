{
 "cells": [
  {
   "cell_type": "code",
   "execution_count": 36,
   "metadata": {
    "ExecuteTime": {
     "end_time": "2019-03-26T07:58:42.638325Z",
     "start_time": "2019-03-26T07:58:42.627295Z"
    }
   },
   "outputs": [
    {
     "name": "stdout",
     "output_type": "stream",
     "text": [
      "   R&D Spend  Administration  Marketing Spend       State     Profit\n",
      "0   165349.2       136897.80        471784.10    New York  192261.83\n",
      "1   162597.7       151377.59        443898.53  California  191792.06\n"
     ]
    }
   ],
   "source": [
    "import pandas as pd\n",
    "import numpy as np\n",
    "data = pd.read_csv('50_Startups.csv')\n",
    "print(data.iloc[:2])\n",
    "x=data.iloc[:,0:-1].values\n",
    "y=data.iloc[:,-1].values"
   ]
  },
  {
   "cell_type": "code",
   "execution_count": 37,
   "metadata": {
    "ExecuteTime": {
     "end_time": "2019-03-26T07:58:43.309606Z",
     "start_time": "2019-03-26T07:58:43.297606Z"
    }
   },
   "outputs": [
    {
     "name": "stdout",
     "output_type": "stream",
     "text": [
      "[[0.0000000e+00 1.0000000e+00 1.6534920e+05 1.3689780e+05 4.7178410e+05]\n",
      " [0.0000000e+00 0.0000000e+00 1.6259770e+05 1.5137759e+05 4.4389853e+05]]\n",
      "40\n",
      "40\n"
     ]
    },
    {
     "name": "stderr",
     "output_type": "stream",
     "text": [
      "D:\\anaconda\\lib\\site-packages\\sklearn\\preprocessing\\_encoders.py:368: FutureWarning: The handling of integer data will change in version 0.22. Currently, the categories are determined based on the range [0, max(values)], while in the future they will be determined based on the unique values.\n",
      "If you want the future behaviour and silence this warning, you can specify \"categories='auto'\".\n",
      "In case you used a LabelEncoder before this OneHotEncoder to convert the categories to integers, then you can now use the OneHotEncoder directly.\n",
      "  warnings.warn(msg, FutureWarning)\n",
      "D:\\anaconda\\lib\\site-packages\\sklearn\\preprocessing\\_encoders.py:390: DeprecationWarning: The 'categorical_features' keyword is deprecated in version 0.20 and will be removed in 0.22. You can use the ColumnTransformer instead.\n",
      "  \"use the ColumnTransformer instead.\", DeprecationWarning)\n"
     ]
    }
   ],
   "source": [
    "from sklearn.impute import SimpleImputer\n",
    "SimpleImputer(missing_values=np.nan,strategy='mean').fit_transform(x[:,:-1])\n",
    "\n",
    "from sklearn.preprocessing import LabelEncoder,OneHotEncoder\n",
    "x[:,-1]=LabelEncoder().fit_transform(x[:,-1])\n",
    "x=OneHotEncoder(categorical_features=[-1]).fit_transform(x).toarray()\n",
    "x=x[:,1:]\n",
    "print(x[:2])\n",
    "\n",
    "from sklearn.model_selection import train_test_split\n",
    "\n",
    "x_train,x_test,y_train,y_test=train_test_split(x,y,test_size=0.2)\n",
    "print(len(x_train))\n",
    "print(len(y_train))"
   ]
  },
  {
   "cell_type": "code",
   "execution_count": 38,
   "metadata": {
    "ExecuteTime": {
     "end_time": "2019-03-26T07:58:45.767598Z",
     "start_time": "2019-03-26T07:58:45.762580Z"
    }
   },
   "outputs": [],
   "source": [
    "from sklearn.linear_model import LinearRegression\n",
    "model=LinearRegression().fit(x_train,y_train)\n",
    "y_pred= model.predict(x_test)\n",
    "# print(x_train[:2])\n",
    "# print(y_pred[:5])\n",
    "# print(y_test[:5])"
   ]
  },
  {
   "cell_type": "code",
   "execution_count": 39,
   "metadata": {
    "ExecuteTime": {
     "end_time": "2019-03-26T07:58:46.372547Z",
     "start_time": "2019-03-26T07:58:46.370038Z"
    }
   },
   "outputs": [],
   "source": [
    "#param reduction:\n",
    "#throw away param with large p-value or keep param with small p-value\n",
    "#large p-value: large p(x|H), etc, \n",
    "#(today sun rises from the west|sun rise from the west)=1,\n",
    "#nothing can be derived from the case\n",
    "# sun rise from west today dosenot has any impact on Hypotheis.\n",
    "#on the other hand, etc,\n",
    "#P(today sun rises from the east|sun rise from the west)=0\n",
    "#this can tell us that there is defnitly something wrong about our model."
   ]
  },
  {
   "cell_type": "code",
   "execution_count": 40,
   "metadata": {
    "ExecuteTime": {
     "end_time": "2019-03-26T07:58:47.462567Z",
     "start_time": "2019-03-26T07:58:47.457581Z"
    }
   },
   "outputs": [
    {
     "name": "stdout",
     "output_type": "stream",
     "text": [
      "[[1.0000000e+00 1.0000000e+00 0.0000000e+00 1.3154600e+03 1.1581621e+05\n",
      "  2.9711446e+05]\n",
      " [1.0000000e+00 1.0000000e+00 0.0000000e+00 1.0191308e+05 1.1059411e+05\n",
      "  2.2916095e+05]\n",
      " [1.0000000e+00 0.0000000e+00 0.0000000e+00 4.4069950e+04 5.1283140e+04\n",
      "  1.9702942e+05]]\n"
     ]
    }
   ],
   "source": [
    "#model: y=b0*1+b1*x1+b2*x2+...\n",
    "import statsmodels.formula.api as stats\n",
    "#在x_train 每项前加一个1\n",
    "#x_train: 40*5 ,axis=1:加入列\n",
    "x_train=np.append(arr=np.ones((40,1)),values=x_train,axis=1)\n",
    "print(x_train[:3])"
   ]
  },
  {
   "cell_type": "code",
   "execution_count": 59,
   "metadata": {
    "ExecuteTime": {
     "end_time": "2019-03-26T09:15:03.361571Z",
     "start_time": "2019-03-26T09:15:03.330514Z"
    }
   },
   "outputs": [
    {
     "name": "stdout",
     "output_type": "stream",
     "text": [
      "***\n",
      "[0, 1, 2, 3, 4, 5]\n",
      "[2.78402045e-10 8.86503254e-01 6.52440198e-01 1.09837402e-19\n",
      " 6.11004889e-01 1.73384379e-01]\n",
      "0.9609532399907734\n",
      "***\n",
      "[0, 2, 3, 4, 5]\n",
      "[1.24260470e-10 5.10407923e-01 2.13465678e-20 5.90797275e-01\n",
      " 1.65283532e-01]\n",
      "0.9620457907133171\n",
      "***\n",
      "[0, 2, 3, 5]\n",
      "[2.61843991e-20 5.02044398e-01 3.97185139e-22 9.66626027e-02]\n",
      "0.9627895993644305\n",
      "***\n",
      "[0, 3, 5]\n",
      "[5.59668712e-22 1.26056700e-22 9.96697414e-02]\n",
      "0.9633328526107968\n",
      "***\n",
      "[0, 3]\n",
      "[1.12273269e-23 1.03910985e-28]\n",
      "0.9615457690151086\n"
     ]
    },
    {
     "name": "stderr",
     "output_type": "stream",
     "text": [
      "D:\\anaconda\\lib\\site-packages\\ipykernel_launcher.py:7: DeprecationWarning: elementwise != comparison failed; this will raise an error in the future.\n",
      "  import sys\n"
     ]
    },
    {
     "data": {
      "text/html": [
       "<table class=\"simpletable\">\n",
       "<caption>OLS Regression Results</caption>\n",
       "<tr>\n",
       "  <th>Dep. Variable:</th>            <td>y</td>        <th>  R-squared:         </th> <td>   0.963</td>\n",
       "</tr>\n",
       "<tr>\n",
       "  <th>Model:</th>                   <td>OLS</td>       <th>  Adj. R-squared:    </th> <td>   0.962</td>\n",
       "</tr>\n",
       "<tr>\n",
       "  <th>Method:</th>             <td>Least Squares</td>  <th>  F-statistic:       </th> <td>   976.2</td>\n",
       "</tr>\n",
       "<tr>\n",
       "  <th>Date:</th>             <td>Tue, 26 Mar 2019</td> <th>  Prob (F-statistic):</th> <td>1.04e-28</td>\n",
       "</tr>\n",
       "<tr>\n",
       "  <th>Time:</th>                 <td>17:15:03</td>     <th>  Log-Likelihood:    </th> <td> -414.12</td>\n",
       "</tr>\n",
       "<tr>\n",
       "  <th>No. Observations:</th>      <td>    40</td>      <th>  AIC:               </th> <td>   832.2</td>\n",
       "</tr>\n",
       "<tr>\n",
       "  <th>Df Residuals:</th>          <td>    38</td>      <th>  BIC:               </th> <td>   835.6</td>\n",
       "</tr>\n",
       "<tr>\n",
       "  <th>Df Model:</th>              <td>     1</td>      <th>                     </th>     <td> </td>   \n",
       "</tr>\n",
       "<tr>\n",
       "  <th>Covariance Type:</th>      <td>nonrobust</td>    <th>                     </th>     <td> </td>   \n",
       "</tr>\n",
       "</table>\n",
       "<table class=\"simpletable\">\n",
       "<tr>\n",
       "    <td></td>       <th>coef</th>     <th>std err</th>      <th>t</th>      <th>P>|t|</th>  <th>[0.025</th>    <th>0.975]</th>  \n",
       "</tr>\n",
       "<tr>\n",
       "  <th>const</th> <td> 5.167e+04</td> <td> 2280.115</td> <td>   22.661</td> <td> 0.000</td> <td> 4.71e+04</td> <td> 5.63e+04</td>\n",
       "</tr>\n",
       "<tr>\n",
       "  <th>x1</th>    <td>    0.8253</td> <td>    0.026</td> <td>   31.244</td> <td> 0.000</td> <td>    0.772</td> <td>    0.879</td>\n",
       "</tr>\n",
       "</table>\n",
       "<table class=\"simpletable\">\n",
       "<tr>\n",
       "  <th>Omnibus:</th>       <td> 0.095</td> <th>  Durbin-Watson:     </th> <td>   2.421</td>\n",
       "</tr>\n",
       "<tr>\n",
       "  <th>Prob(Omnibus):</th> <td> 0.954</td> <th>  Jarque-Bera (JB):  </th> <td>   0.072</td>\n",
       "</tr>\n",
       "<tr>\n",
       "  <th>Skew:</th>          <td> 0.073</td> <th>  Prob(JB):          </th> <td>   0.965</td>\n",
       "</tr>\n",
       "<tr>\n",
       "  <th>Kurtosis:</th>      <td> 2.852</td> <th>  Cond. No.          </th> <td>1.60e+05</td>\n",
       "</tr>\n",
       "</table><br/><br/>Warnings:<br/>[1] Standard Errors assume that the covariance matrix of the errors is correctly specified.<br/>[2] The condition number is large, 1.6e+05. This might indicate that there are<br/>strong multicollinearity or other numerical problems."
      ],
      "text/plain": [
       "<class 'statsmodels.iolib.summary.Summary'>\n",
       "\"\"\"\n",
       "                            OLS Regression Results                            \n",
       "==============================================================================\n",
       "Dep. Variable:                      y   R-squared:                       0.963\n",
       "Model:                            OLS   Adj. R-squared:                  0.962\n",
       "Method:                 Least Squares   F-statistic:                     976.2\n",
       "Date:                Tue, 26 Mar 2019   Prob (F-statistic):           1.04e-28\n",
       "Time:                        17:15:03   Log-Likelihood:                -414.12\n",
       "No. Observations:                  40   AIC:                             832.2\n",
       "Df Residuals:                      38   BIC:                             835.6\n",
       "Df Model:                           1                                         \n",
       "Covariance Type:            nonrobust                                         \n",
       "==============================================================================\n",
       "                 coef    std err          t      P>|t|      [0.025      0.975]\n",
       "------------------------------------------------------------------------------\n",
       "const       5.167e+04   2280.115     22.661      0.000    4.71e+04    5.63e+04\n",
       "x1             0.8253      0.026     31.244      0.000       0.772       0.879\n",
       "==============================================================================\n",
       "Omnibus:                        0.095   Durbin-Watson:                   2.421\n",
       "Prob(Omnibus):                  0.954   Jarque-Bera (JB):                0.072\n",
       "Skew:                           0.073   Prob(JB):                        0.965\n",
       "Kurtosis:                       2.852   Cond. No.                     1.60e+05\n",
       "==============================================================================\n",
       "\n",
       "Warnings:\n",
       "[1] Standard Errors assume that the covariance matrix of the errors is correctly specified.\n",
       "[2] The condition number is large, 1.6e+05. This might indicate that there are\n",
       "strong multicollinearity or other numerical problems.\n",
       "\"\"\""
      ]
     },
     "execution_count": 59,
     "metadata": {},
     "output_type": "execute_result"
    }
   ],
   "source": [
    "x_current = x_train[:,[0,1,2,3,4,5]]\n",
    "x_pre=np.array([])\n",
    "\n",
    "\n",
    "threshold=0.08\n",
    "feature_list=[0,1,2,3,4,5]\n",
    "while (x_pre!=x_current) and len(feature_list)>=2:\n",
    "    print('***')\n",
    "    print(feature_list)\n",
    "    regressor = stats.OLS(y_train,x_current).fit()\n",
    "    print(regressor.pvalues)\n",
    "    print(regressor.rsquared_adj)\n",
    "    idx=np.argmax(regressor.pvalues)\n",
    "    if len(feature_list)==2:\n",
    "        break\n",
    "    if regressor.pvalues[idx]>threshold:\n",
    "        x_pre=x_current\n",
    "        del feature_list[idx]\n",
    "        x_current=x_train[:,feature_list]\n",
    "regressor.summary()\n",
    "#we can see that by removeing x5 causes r-squared_adj down.\n",
    "# which means we should keep x5 altghough it has p value greater than threshold\n",
    "#thus we can conclude that the final two factor is R.D spend x3, and Marketing Spend,x5"
   ]
  },
  {
   "cell_type": "code",
   "execution_count": null,
   "metadata": {
    "ExecuteTime": {
     "start_time": "2019-03-26T07:52:10.550Z"
    }
   },
   "outputs": [],
   "source": []
  },
  {
   "cell_type": "code",
   "execution_count": null,
   "metadata": {
    "ExecuteTime": {
     "end_time": "2019-03-25T09:31:28.964587Z",
     "start_time": "2019-03-25T09:31:28.945536Z"
    }
   },
   "outputs": [],
   "source": []
  },
  {
   "cell_type": "code",
   "execution_count": null,
   "metadata": {
    "ExecuteTime": {
     "end_time": "2019-03-25T09:32:04.954128Z",
     "start_time": "2019-03-25T09:32:04.936112Z"
    }
   },
   "outputs": [],
   "source": []
  },
  {
   "cell_type": "code",
   "execution_count": null,
   "metadata": {
    "ExecuteTime": {
     "end_time": "2019-03-25T09:33:46.142069Z",
     "start_time": "2019-03-25T09:33:46.124046Z"
    }
   },
   "outputs": [],
   "source": []
  },
  {
   "cell_type": "code",
   "execution_count": null,
   "metadata": {},
   "outputs": [],
   "source": []
  }
 ],
 "metadata": {
  "kernelspec": {
   "display_name": "Python 3",
   "language": "python",
   "name": "python3"
  },
  "varInspector": {
   "cols": {
    "lenName": 16,
    "lenType": 16,
    "lenVar": 40
   },
   "kernels_config": {
    "python": {
     "delete_cmd_postfix": "",
     "delete_cmd_prefix": "del ",
     "library": "var_list.py",
     "varRefreshCmd": "print(var_dic_list())"
    },
    "r": {
     "delete_cmd_postfix": ") ",
     "delete_cmd_prefix": "rm(",
     "library": "var_list.r",
     "varRefreshCmd": "cat(var_dic_list()) "
    }
   },
   "types_to_exclude": [
    "module",
    "function",
    "builtin_function_or_method",
    "instance",
    "_Feature"
   ],
   "window_display": false
  }
 },
 "nbformat": 4,
 "nbformat_minor": 2
}
