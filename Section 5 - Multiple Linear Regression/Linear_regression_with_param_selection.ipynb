{
 "cells": [
  {
   "cell_type": "code",
   "execution_count": 1,
   "metadata": {
    "ExecuteTime": {
     "end_time": "2019-03-26T04:29:46.338799Z",
     "start_time": "2019-03-26T04:29:44.472253Z"
    }
   },
   "outputs": [
    {
     "name": "stdout",
     "output_type": "stream",
     "text": [
      "   R&D Spend  Administration  Marketing Spend       State     Profit\n",
      "0   165349.2       136897.80        471784.10    New York  192261.83\n",
      "1   162597.7       151377.59        443898.53  California  191792.06\n"
     ]
    }
   ],
   "source": [
    "import pandas as pd\n",
    "import numpy as np\n",
    "data = pd.read_csv('50_Startups.csv')\n",
    "print(data.iloc[:2])\n",
    "x=data.iloc[:,0:-1].values\n",
    "y=data.iloc[:,-1].values"
   ]
  },
  {
   "cell_type": "code",
   "execution_count": 2,
   "metadata": {
    "ExecuteTime": {
     "end_time": "2019-03-26T04:29:50.919217Z",
     "start_time": "2019-03-26T04:29:46.386831Z"
    }
   },
   "outputs": [
    {
     "name": "stdout",
     "output_type": "stream",
     "text": [
      "[[0.0000000e+00 1.0000000e+00 1.6534920e+05 1.3689780e+05 4.7178410e+05]\n",
      " [0.0000000e+00 0.0000000e+00 1.6259770e+05 1.5137759e+05 4.4389853e+05]]\n",
      "40\n",
      "40\n"
     ]
    },
    {
     "name": "stderr",
     "output_type": "stream",
     "text": [
      "D:\\anaconda\\lib\\site-packages\\sklearn\\preprocessing\\_encoders.py:368: FutureWarning: The handling of integer data will change in version 0.22. Currently, the categories are determined based on the range [0, max(values)], while in the future they will be determined based on the unique values.\n",
      "If you want the future behaviour and silence this warning, you can specify \"categories='auto'\".\n",
      "In case you used a LabelEncoder before this OneHotEncoder to convert the categories to integers, then you can now use the OneHotEncoder directly.\n",
      "  warnings.warn(msg, FutureWarning)\n",
      "D:\\anaconda\\lib\\site-packages\\sklearn\\preprocessing\\_encoders.py:390: DeprecationWarning: The 'categorical_features' keyword is deprecated in version 0.20 and will be removed in 0.22. You can use the ColumnTransformer instead.\n",
      "  \"use the ColumnTransformer instead.\", DeprecationWarning)\n"
     ]
    }
   ],
   "source": [
    "from sklearn.impute import SimpleImputer\n",
    "SimpleImputer(missing_values=np.nan,strategy='mean').fit_transform(x[:,:-1])\n",
    "\n",
    "from sklearn.preprocessing import LabelEncoder,OneHotEncoder\n",
    "x[:,-1]=LabelEncoder().fit_transform(x[:,-1])\n",
    "x=OneHotEncoder(categorical_features=[-1]).fit_transform(x).toarray()\n",
    "x=x[:,1:]\n",
    "print(x[:2])\n",
    "\n",
    "from sklearn.model_selection import train_test_split\n",
    "\n",
    "x_train,x_test,y_train,y_test=train_test_split(x,y,test_size=0.2)\n",
    "print(len(x_train))\n",
    "print(len(y_train))"
   ]
  },
  {
   "cell_type": "code",
   "execution_count": 3,
   "metadata": {
    "ExecuteTime": {
     "end_time": "2019-03-26T04:29:51.724778Z",
     "start_time": "2019-03-26T04:29:50.947291Z"
    }
   },
   "outputs": [],
   "source": [
    "from sklearn.linear_model import LinearRegression\n",
    "model=LinearRegression().fit(x_train,y_train)\n",
    "y_pred= model.predict(x_test)\n",
    "# print(x_train[:2])\n",
    "# print(y_pred[:5])\n",
    "# print(y_test[:5])"
   ]
  },
  {
   "cell_type": "code",
   "execution_count": 4,
   "metadata": {
    "ExecuteTime": {
     "end_time": "2019-03-26T04:29:51.779575Z",
     "start_time": "2019-03-26T04:29:51.775593Z"
    }
   },
   "outputs": [],
   "source": [
    "#param reduction:\n",
    "#throw away param with large p-value or keep param with small p-value\n",
    "#large p-value: large p(x|H), etc, \n",
    "#(today sun rises from the west|sun rise from the west)=1,\n",
    "#nothing can be derived from the case\n",
    "# sun rise from west today dosenot has any impact on Hypotheis.\n",
    "#on the other hand, etc,\n",
    "#P(today sun rises from the east|sun rise from the west)=0\n",
    "#this can tell us that there is defnitly something wrong about our model."
   ]
  },
  {
   "cell_type": "code",
   "execution_count": 5,
   "metadata": {
    "ExecuteTime": {
     "end_time": "2019-03-26T04:29:52.601119Z",
     "start_time": "2019-03-26T04:29:51.805147Z"
    }
   },
   "outputs": [
    {
     "name": "stdout",
     "output_type": "stream",
     "text": [
      "[[1.0000000e+00 0.0000000e+00 0.0000000e+00 4.4069950e+04 5.1283140e+04\n",
      "  1.9702942e+05]\n",
      " [1.0000000e+00 0.0000000e+00 0.0000000e+00 0.0000000e+00 1.3542692e+05\n",
      "  0.0000000e+00]\n",
      " [1.0000000e+00 1.0000000e+00 0.0000000e+00 7.3994560e+04 1.2278275e+05\n",
      "  3.0331926e+05]]\n"
     ]
    }
   ],
   "source": [
    "#model: y=b0*1+b1*x1+b2*x2+...\n",
    "import statsmodels.formula.api as stats\n",
    "#在x_train 每项前加一个1\n",
    "#x_train: 40*5 ,axis=1:加入列\n",
    "x_train=np.append(arr=np.ones((40,1)),values=x_train,axis=1)\n",
    "print(x_train[:3])"
   ]
  },
  {
   "cell_type": "code",
   "execution_count": 28,
   "metadata": {
    "ExecuteTime": {
     "end_time": "2019-03-26T04:51:51.898065Z",
     "start_time": "2019-03-26T04:51:51.881018Z"
    }
   },
   "outputs": [
    {
     "name": "stdout",
     "output_type": "stream",
     "text": [
      "[3.99587291e-06 8.87485013e-01 9.34394349e-01 8.37712372e-17\n",
      " 9.68103063e-01 1.55306551e-01]\n",
      "***\n",
      "4\n",
      "[0, 1, 2, 3, 5]\n",
      "[8.98973577e-15 8.87895882e-01 9.31208763e-01 2.93117449e-18\n",
      " 1.37348129e-01]\n",
      "***\n",
      "2\n",
      "[0, 1, 3, 5]\n",
      "[2.88909418e-17 8.25022996e-01 9.13943614e-19 1.31188984e-01]\n",
      "***\n",
      "1\n",
      "[0, 3, 5]\n",
      "[5.79982910e-18 2.93887263e-19 1.00223841e-01]\n",
      "***\n",
      "2\n",
      "[0, 3]\n"
     ]
    },
    {
     "name": "stderr",
     "output_type": "stream",
     "text": [
      "D:\\anaconda\\lib\\site-packages\\ipykernel_launcher.py:7: DeprecationWarning: elementwise != comparison failed; this will raise an error in the future.\n",
      "  import sys\n"
     ]
    }
   ],
   "source": [
    "x_current = x_train[:,[0,1,2,3,4,5]]\n",
    "x_pre=np.array([])\n",
    "\n",
    "\n",
    "threshold=0.08\n",
    "feature_list=[0,1,2,3,4,5]\n",
    "while (x_pre!=x_current) and len(feature_list)>2:\n",
    "    regressor = stats.OLS(y_train,x_current).fit()\n",
    "    print(regressor.pvalues)\n",
    "    idx=np.argmax(regressor.pvalues)\n",
    "    print('***')\n",
    "    print(idx)\n",
    "    if regressor.pvalues[idx]>threshold:\n",
    "        x_pre=x_current\n",
    "        del feature_list[idx]\n",
    "        print(feature_list)\n",
    "        x_current=x_train[:,feature_list]\n"
   ]
  },
  {
   "cell_type": "code",
   "execution_count": 29,
   "metadata": {
    "ExecuteTime": {
     "end_time": "2019-03-26T04:52:17.385987Z",
     "start_time": "2019-03-26T04:52:17.370933Z"
    }
   },
   "outputs": [
    {
     "data": {
      "text/html": [
       "<table class=\"simpletable\">\n",
       "<caption>OLS Regression Results</caption>\n",
       "<tr>\n",
       "  <th>Dep. Variable:</th>            <td>y</td>        <th>  R-squared:         </th> <td>   0.947</td>\n",
       "</tr>\n",
       "<tr>\n",
       "  <th>Model:</th>                   <td>OLS</td>       <th>  Adj. R-squared:    </th> <td>   0.944</td>\n",
       "</tr>\n",
       "<tr>\n",
       "  <th>Method:</th>             <td>Least Squares</td>  <th>  F-statistic:       </th> <td>   327.6</td>\n",
       "</tr>\n",
       "<tr>\n",
       "  <th>Date:</th>             <td>Tue, 26 Mar 2019</td> <th>  Prob (F-statistic):</th> <td>2.93e-24</td>\n",
       "</tr>\n",
       "<tr>\n",
       "  <th>Time:</th>                 <td>12:52:17</td>     <th>  Log-Likelihood:    </th> <td> -421.55</td>\n",
       "</tr>\n",
       "<tr>\n",
       "  <th>No. Observations:</th>      <td>    40</td>      <th>  AIC:               </th> <td>   849.1</td>\n",
       "</tr>\n",
       "<tr>\n",
       "  <th>Df Residuals:</th>          <td>    37</td>      <th>  BIC:               </th> <td>   854.2</td>\n",
       "</tr>\n",
       "<tr>\n",
       "  <th>Df Model:</th>              <td>     2</td>      <th>                     </th>     <td> </td>   \n",
       "</tr>\n",
       "<tr>\n",
       "  <th>Covariance Type:</th>      <td>nonrobust</td>    <th>                     </th>     <td> </td>   \n",
       "</tr>\n",
       "</table>\n",
       "<table class=\"simpletable\">\n",
       "<tr>\n",
       "    <td></td>       <th>coef</th>     <th>std err</th>      <th>t</th>      <th>P>|t|</th>  <th>[0.025</th>    <th>0.975]</th>  \n",
       "</tr>\n",
       "<tr>\n",
       "  <th>const</th> <td> 4.639e+04</td> <td> 2950.782</td> <td>   15.722</td> <td> 0.000</td> <td> 4.04e+04</td> <td> 5.24e+04</td>\n",
       "</tr>\n",
       "<tr>\n",
       "  <th>x1</th>    <td>    0.7977</td> <td>    0.046</td> <td>   17.226</td> <td> 0.000</td> <td>    0.704</td> <td>    0.891</td>\n",
       "</tr>\n",
       "<tr>\n",
       "  <th>x2</th>    <td>    0.0277</td> <td>    0.016</td> <td>    1.686</td> <td> 0.100</td> <td>   -0.006</td> <td>    0.061</td>\n",
       "</tr>\n",
       "</table>\n",
       "<table class=\"simpletable\">\n",
       "<tr>\n",
       "  <th>Omnibus:</th>       <td>13.461</td> <th>  Durbin-Watson:     </th> <td>   1.817</td>\n",
       "</tr>\n",
       "<tr>\n",
       "  <th>Prob(Omnibus):</th> <td> 0.001</td> <th>  Jarque-Bera (JB):  </th> <td>  17.997</td>\n",
       "</tr>\n",
       "<tr>\n",
       "  <th>Skew:</th>          <td>-0.962</td> <th>  Prob(JB):          </th> <td>0.000124</td>\n",
       "</tr>\n",
       "<tr>\n",
       "  <th>Kurtosis:</th>      <td> 5.663</td> <th>  Cond. No.          </th> <td>4.87e+05</td>\n",
       "</tr>\n",
       "</table><br/><br/>Warnings:<br/>[1] Standard Errors assume that the covariance matrix of the errors is correctly specified.<br/>[2] The condition number is large, 4.87e+05. This might indicate that there are<br/>strong multicollinearity or other numerical problems."
      ],
      "text/plain": [
       "<class 'statsmodels.iolib.summary.Summary'>\n",
       "\"\"\"\n",
       "                            OLS Regression Results                            \n",
       "==============================================================================\n",
       "Dep. Variable:                      y   R-squared:                       0.947\n",
       "Model:                            OLS   Adj. R-squared:                  0.944\n",
       "Method:                 Least Squares   F-statistic:                     327.6\n",
       "Date:                Tue, 26 Mar 2019   Prob (F-statistic):           2.93e-24\n",
       "Time:                        12:52:17   Log-Likelihood:                -421.55\n",
       "No. Observations:                  40   AIC:                             849.1\n",
       "Df Residuals:                      37   BIC:                             854.2\n",
       "Df Model:                           2                                         \n",
       "Covariance Type:            nonrobust                                         \n",
       "==============================================================================\n",
       "                 coef    std err          t      P>|t|      [0.025      0.975]\n",
       "------------------------------------------------------------------------------\n",
       "const       4.639e+04   2950.782     15.722      0.000    4.04e+04    5.24e+04\n",
       "x1             0.7977      0.046     17.226      0.000       0.704       0.891\n",
       "x2             0.0277      0.016      1.686      0.100      -0.006       0.061\n",
       "==============================================================================\n",
       "Omnibus:                       13.461   Durbin-Watson:                   1.817\n",
       "Prob(Omnibus):                  0.001   Jarque-Bera (JB):               17.997\n",
       "Skew:                          -0.962   Prob(JB):                     0.000124\n",
       "Kurtosis:                       5.663   Cond. No.                     4.87e+05\n",
       "==============================================================================\n",
       "\n",
       "Warnings:\n",
       "[1] Standard Errors assume that the covariance matrix of the errors is correctly specified.\n",
       "[2] The condition number is large, 4.87e+05. This might indicate that there are\n",
       "strong multicollinearity or other numerical problems.\n",
       "\"\"\""
      ]
     },
     "execution_count": 29,
     "metadata": {},
     "output_type": "execute_result"
    }
   ],
   "source": [
    "regressor.summary()"
   ]
  },
  {
   "cell_type": "code",
   "execution_count": null,
   "metadata": {
    "ExecuteTime": {
     "end_time": "2019-03-25T09:31:28.964587Z",
     "start_time": "2019-03-25T09:31:28.945536Z"
    }
   },
   "outputs": [],
   "source": []
  },
  {
   "cell_type": "code",
   "execution_count": null,
   "metadata": {
    "ExecuteTime": {
     "end_time": "2019-03-25T09:32:04.954128Z",
     "start_time": "2019-03-25T09:32:04.936112Z"
    }
   },
   "outputs": [],
   "source": []
  },
  {
   "cell_type": "code",
   "execution_count": null,
   "metadata": {
    "ExecuteTime": {
     "end_time": "2019-03-25T09:33:46.142069Z",
     "start_time": "2019-03-25T09:33:46.124046Z"
    }
   },
   "outputs": [],
   "source": []
  },
  {
   "cell_type": "code",
   "execution_count": null,
   "metadata": {},
   "outputs": [],
   "source": []
  }
 ],
 "metadata": {
  "kernelspec": {
   "display_name": "Python 3",
   "language": "python",
   "name": "python3"
  },
  "language_info": {
   "codemirror_mode": {
    "name": "ipython",
    "version": 3
   },
   "file_extension": ".py",
   "mimetype": "text/x-python",
   "name": "python",
   "nbconvert_exporter": "python",
   "pygments_lexer": "ipython3",
   "version": "3.7.1"
  },
  "varInspector": {
   "cols": {
    "lenName": 16,
    "lenType": 16,
    "lenVar": 40
   },
   "kernels_config": {
    "python": {
     "delete_cmd_postfix": "",
     "delete_cmd_prefix": "del ",
     "library": "var_list.py",
     "varRefreshCmd": "print(var_dic_list())"
    },
    "r": {
     "delete_cmd_postfix": ") ",
     "delete_cmd_prefix": "rm(",
     "library": "var_list.r",
     "varRefreshCmd": "cat(var_dic_list()) "
    }
   },
   "types_to_exclude": [
    "module",
    "function",
    "builtin_function_or_method",
    "instance",
    "_Feature"
   ],
   "window_display": false
  }
 },
 "nbformat": 4,
 "nbformat_minor": 2
}
