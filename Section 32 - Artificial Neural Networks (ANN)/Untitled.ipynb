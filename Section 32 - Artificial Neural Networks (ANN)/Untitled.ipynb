{
 "cells": [
  {
   "cell_type": "code",
   "execution_count": 107,
   "metadata": {
    "ExecuteTime": {
     "end_time": "2019-03-22T08:45:28.375677Z",
     "start_time": "2019-03-22T08:45:28.339562Z"
    }
   },
   "outputs": [
    {
     "name": "stdout",
     "output_type": "stream",
     "text": [
      "[[619 'France' 'Female' 42 2 0.0 1 1 1 101348.88]\n",
      " [608 'Spain' 'Female' 41 1 83807.86 1 0 1 112542.58]]\n"
     ]
    }
   ],
   "source": [
    "import warnings\n",
    "warnings.filterwarnings('ignore')\n",
    "\n",
    "import tensorflow\n",
    "import keras\n",
    "import numpy as np\n",
    "import pandas as pd\n",
    "dataset=pd.read_csv(\"Churn_Modelling.csv\")\n",
    "\n",
    "x=dataset.iloc[:, 3:-1].values\n",
    "print(x[0:2])\n",
    "y=dataset.iloc[:,-1].values"
   ]
  },
  {
   "cell_type": "code",
   "execution_count": 108,
   "metadata": {
    "ExecuteTime": {
     "end_time": "2019-03-22T08:45:28.780700Z",
     "start_time": "2019-03-22T08:45:28.747616Z"
    }
   },
   "outputs": [
    {
     "name": "stdout",
     "output_type": "stream",
     "text": [
      "[[ 1.71603414 -0.57311631 -0.253323    0.91002943 -0.28279591 -1.03705199\n",
      "   1.69037794  0.81137666  0.6424008   0.97189479 -0.73965085]\n",
      " [-0.58273899  1.74484652 -1.86278747 -1.09886556  0.85986191  0.34080409\n",
      "   1.03183914 -0.91817657  0.6424008   0.97189479  0.2913352 ]]\n"
     ]
    }
   ],
   "source": [
    "#nation 和 gender 为分类数据\n",
    "from sklearn.model_selection import train_test_split\n",
    "from sklearn.preprocessing import LabelEncoder,OneHotEncoder\n",
    "x[:,1]= LabelEncoder().fit_transform(x[:,1])\n",
    "x[:,2]=LabelEncoder().fit_transform(x[:,2])\n",
    "\n",
    "#前三列表示国家的编码\n",
    "\n",
    "x= OneHotEncoder(categorical_features=[1]).fit_transform(x).toarray()\n",
    "# print(x[:2])\n",
    "\n",
    "# 只有france spain germany 3个国家,10 01 11 只需要两列就可表示\n",
    "#删除多的一列以避免虚拟变量陷阱\n",
    "\n",
    "x=x[:,1:len(x[0])]#包含最后一列\n",
    "# print(x[:2])\n",
    "x_train,x_test,y_train,y_test= train_test_split(x,y,test_size=0.2)\n",
    "\n",
    "#特征缩放 scaler -- ~(0,1)\n",
    "from sklearn.preprocessing import StandardScaler\n",
    "x_train=StandardScaler().fit_transform(x_train)\n",
    "x_test=StandardScaler().fit_transform(x_test)\n",
    "print(x_train[:2])"
   ]
  },
  {
   "cell_type": "code",
   "execution_count": 120,
   "metadata": {
    "ExecuteTime": {
     "end_time": "2019-03-22T09:00:41.913514Z",
     "start_time": "2019-03-22T09:00:41.789688Z"
    }
   },
   "outputs": [],
   "source": [
    "from keras.models import Sequential #初始化神经网络\n",
    "from keras.layers import Dense #添加网络层\n",
    "#1。初始化网络结构及参数\n",
    "classifer= Sequential()\n",
    "# print(dir(classifer))\n",
    "#first hidden layer with input dim 11, 6 (11+1)/2 units\n",
    "classifer.add(Dense(input_dim=11,units=6, activation='relu',kernel_initializer='uniform'))\n",
    "#second hidden layer (no need to add input dim)\n",
    "classifer.add(Dense(units=6, activation='relu',kernel_initializer='uniform'))\n",
    "#output layer\n",
    "classifer.add(Dense(units=1, activation='sigmoid',kernel_initializer='uniform'))\n",
    "#2.指定损失函数 和 优化方法 (sgd,adam) (catagorical_crossentropy)\n",
    "classifer.compile(optimizer='adam',loss='binary_crossentropy',metrics=['accuracy'])"
   ]
  },
  {
   "cell_type": "code",
   "execution_count": null,
   "metadata": {
    "ExecuteTime": {
     "start_time": "2019-03-22T09:04:26.530Z"
    }
   },
   "outputs": [
    {
     "name": "stdout",
     "output_type": "stream",
     "text": [
      "Epoch 1/50\n"
     ]
    }
   ],
   "source": [
    "#3 输入数据,batch size,和 epoch, 进行 batch learning 或 reinforcement learning\n",
    "classifer.fit(x_train,y_train,batch_size=10,epochs=50)"
   ]
  },
  {
   "cell_type": "code",
   "execution_count": null,
   "metadata": {},
   "outputs": [],
   "source": []
  }
 ],
 "metadata": {
  "kernelspec": {
   "display_name": "Python 3",
   "language": "python",
   "name": "python3"
  },
  "language_info": {
   "codemirror_mode": {
    "name": "ipython",
    "version": 3
   },
   "file_extension": ".py",
   "mimetype": "text/x-python",
   "name": "python",
   "nbconvert_exporter": "python",
   "pygments_lexer": "ipython3",
   "version": "3.6.8"
  },
  "varInspector": {
   "cols": {
    "lenName": 16,
    "lenType": 16,
    "lenVar": 40
   },
   "kernels_config": {
    "python": {
     "delete_cmd_postfix": "",
     "delete_cmd_prefix": "del ",
     "library": "var_list.py",
     "varRefreshCmd": "print(var_dic_list())"
    },
    "r": {
     "delete_cmd_postfix": ") ",
     "delete_cmd_prefix": "rm(",
     "library": "var_list.r",
     "varRefreshCmd": "cat(var_dic_list()) "
    }
   },
   "oldHeight": 446.430222,
   "position": {
    "height": "40px",
    "left": "1089px",
    "right": "20px",
    "top": "263px",
    "width": "800px"
   },
   "types_to_exclude": [
    "module",
    "function",
    "builtin_function_or_method",
    "instance",
    "_Feature"
   ],
   "varInspector_section_display": "none",
   "window_display": true
  }
 },
 "nbformat": 4,
 "nbformat_minor": 2
}
