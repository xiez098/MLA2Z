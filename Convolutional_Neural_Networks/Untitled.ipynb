{
 "cells": [
  {
   "cell_type": "code",
   "execution_count": 1,
   "metadata": {
    "ExecuteTime": {
     "end_time": "2019-03-25T05:42:09.802292Z",
     "start_time": "2019-03-25T05:42:07.122271Z"
    }
   },
   "outputs": [
    {
     "name": "stderr",
     "output_type": "stream",
     "text": [
      "Using TensorFlow backend.\n"
     ]
    },
    {
     "name": "stdout",
     "output_type": "stream",
     "text": [
      "WARNING:tensorflow:From D:\\anaconda\\envs\\tensorflow\\lib\\site-packages\\tensorflow\\python\\framework\\op_def_library.py:263: colocate_with (from tensorflow.python.framework.ops) is deprecated and will be removed in a future version.\n",
      "Instructions for updating:\n",
      "Colocations handled automatically by placer.\n"
     ]
    }
   ],
   "source": [
    "from keras.models import Sequential\n",
    "from keras.layers import Conv2D\n",
    "from keras.layers import MaxPooling2D\n",
    "from keras.layers import Flatten\n",
    "from keras.layers import Dense\n",
    "\n",
    "model= Sequential()\n",
    "model.add(Conv2D(16,(3,3),activation='relu',input_shape=(64,64,3)))\n",
    "model.add(MaxPooling2D(pool_size= (2,2)))\n",
    "model.add(Flatten())\n",
    "#fully connected layer (ANN)\n",
    "model.add(Dense(units=128,activation='relu'))\n",
    "model.add(Dense(units=1,activation='sigmoid'))\n",
    "\n",
    "model.compile(optimizer='adam',loss='binary_crossentropy',metrics=['accuracy'])\n"
   ]
  },
  {
   "cell_type": "code",
   "execution_count": 2,
   "metadata": {
    "ExecuteTime": {
     "end_time": "2019-03-25T06:01:59.183479Z",
     "start_time": "2019-03-25T05:42:10.847515Z"
    }
   },
   "outputs": [
    {
     "name": "stdout",
     "output_type": "stream",
     "text": [
      "Found 8000 images belonging to 2 classes.\n",
      "Found 2000 images belonging to 2 classes.\n",
      "WARNING:tensorflow:From D:\\anaconda\\envs\\tensorflow\\lib\\site-packages\\tensorflow\\python\\ops\\math_ops.py:3066: to_int32 (from tensorflow.python.ops.math_ops) is deprecated and will be removed in a future version.\n",
      "Instructions for updating:\n",
      "Use tf.cast instead.\n",
      "Epoch 1/25\n",
      "300/300 [==============================] - 87s 290ms/step - loss: 0.6539 - acc: 0.6232 - val_loss: 0.5893 - val_acc: 0.7055\n",
      "Epoch 2/25\n",
      "300/300 [==============================] - 48s 161ms/step - loss: 0.5877 - acc: 0.6845 - val_loss: 0.5623 - val_acc: 0.7155\n",
      "Epoch 3/25\n",
      "300/300 [==============================] - 51s 170ms/step - loss: 0.5651 - acc: 0.7054 - val_loss: 0.5535 - val_acc: 0.7230\n",
      "Epoch 4/25\n",
      "300/300 [==============================] - 49s 164ms/step - loss: 0.5495 - acc: 0.7209 - val_loss: 0.5579 - val_acc: 0.7195\n",
      "Epoch 5/25\n",
      "300/300 [==============================] - 48s 160ms/step - loss: 0.5219 - acc: 0.7427 - val_loss: 0.6104 - val_acc: 0.6825\n",
      "Epoch 6/25\n",
      "300/300 [==============================] - 49s 162ms/step - loss: 0.5066 - acc: 0.7436 - val_loss: 0.5277 - val_acc: 0.7480\n",
      "Epoch 7/25\n",
      "300/300 [==============================] - 45s 148ms/step - loss: 0.4830 - acc: 0.7655 - val_loss: 0.5556 - val_acc: 0.7415\n",
      "Epoch 8/25\n",
      "300/300 [==============================] - 45s 149ms/step - loss: 0.4793 - acc: 0.7672 - val_loss: 0.5799 - val_acc: 0.7105\n",
      "Epoch 9/25\n",
      "300/300 [==============================] - 44s 148ms/step - loss: 0.4617 - acc: 0.7770 - val_loss: 0.5208 - val_acc: 0.7600\n",
      "Epoch 10/25\n",
      "300/300 [==============================] - 45s 148ms/step - loss: 0.4576 - acc: 0.7784 - val_loss: 0.5169 - val_acc: 0.7570\n",
      "Epoch 11/25\n",
      "300/300 [==============================] - 45s 149ms/step - loss: 0.4432 - acc: 0.7836 - val_loss: 0.5602 - val_acc: 0.7465\n",
      "Epoch 12/25\n",
      "300/300 [==============================] - 45s 149ms/step - loss: 0.4237 - acc: 0.8000 - val_loss: 0.5326 - val_acc: 0.7690\n",
      "Epoch 13/25\n",
      "300/300 [==============================] - 45s 150ms/step - loss: 0.4229 - acc: 0.8065 - val_loss: 0.5204 - val_acc: 0.7680\n",
      "Epoch 14/25\n",
      "300/300 [==============================] - 47s 155ms/step - loss: 0.3936 - acc: 0.8192 - val_loss: 0.5522 - val_acc: 0.7580\n",
      "Epoch 15/25\n",
      "300/300 [==============================] - 45s 150ms/step - loss: 0.3969 - acc: 0.8224 - val_loss: 0.5845 - val_acc: 0.7500\n",
      "Epoch 16/25\n",
      "300/300 [==============================] - 45s 149ms/step - loss: 0.3685 - acc: 0.8375 - val_loss: 0.5914 - val_acc: 0.7600\n",
      "Epoch 17/25\n",
      "300/300 [==============================] - 45s 149ms/step - loss: 0.3600 - acc: 0.8351 - val_loss: 0.6170 - val_acc: 0.7485\n",
      "Epoch 18/25\n",
      "300/300 [==============================] - 45s 150ms/step - loss: 0.3556 - acc: 0.8434 - val_loss: 0.6510 - val_acc: 0.7295\n",
      "Epoch 19/25\n",
      "300/300 [==============================] - 45s 150ms/step - loss: 0.3382 - acc: 0.8498 - val_loss: 0.6362 - val_acc: 0.7480\n",
      "Epoch 20/25\n",
      "300/300 [==============================] - 45s 150ms/step - loss: 0.3349 - acc: 0.8499 - val_loss: 0.6101 - val_acc: 0.7480\n",
      "Epoch 21/25\n",
      "300/300 [==============================] - 45s 150ms/step - loss: 0.3233 - acc: 0.8579 - val_loss: 0.6017 - val_acc: 0.7615\n",
      "Epoch 22/25\n",
      "300/300 [==============================] - 45s 149ms/step - loss: 0.3105 - acc: 0.8672 - val_loss: 0.5917 - val_acc: 0.7670\n",
      "Epoch 23/25\n",
      "300/300 [==============================] - 45s 150ms/step - loss: 0.2959 - acc: 0.8752 - val_loss: 0.6998 - val_acc: 0.7355\n",
      "Epoch 24/25\n",
      "300/300 [==============================] - 45s 149ms/step - loss: 0.2960 - acc: 0.8740 - val_loss: 0.7260 - val_acc: 0.7355\n",
      "Epoch 25/25\n",
      "300/300 [==============================] - 47s 157ms/step - loss: 0.2832 - acc: 0.8799 - val_loss: 0.6779 - val_acc: 0.7490\n"
     ]
    },
    {
     "data": {
      "text/plain": [
       "<keras.callbacks.History at 0x20e45dedf98>"
      ]
     },
     "execution_count": 2,
     "metadata": {},
     "output_type": "execute_result"
    }
   ],
   "source": [
    "from keras.preprocessing.image import ImageDataGenerator\n",
    "\n",
    "train_datagen = ImageDataGenerator(\n",
    "        rescale=1./255,  #rescale 避免进入 sigmoid 函数 死亡区\n",
    "        shear_range=0.2, #方形=>平行四边形 变换， 数据量不够 用变换后的shu\n",
    "        zoom_range=0.2,\n",
    "        horizontal_flip=True)\n",
    "\n",
    "test_datagen = ImageDataGenerator(rescale=1./255)\n",
    "\n",
    "train_generator = train_datagen.flow_from_directory(\n",
    "        'dataset/training_set',\n",
    "        target_size=(64, 64),\n",
    "        batch_size=32,\n",
    "        class_mode='binary')\n",
    "\n",
    "validation_generator = test_datagen.flow_from_directory(\n",
    "        'dataset/test_set',\n",
    "        target_size=(64, 64),\n",
    "        batch_size=32,\n",
    "        class_mode='binary')\n",
    "\n",
    "model.fit_generator(\n",
    "        train_generator,\n",
    "    #total number of steps = #of datasets/batchsize = 8000/32=250\n",
    "    #if set to be 500 ,etc, then Image generator will gerenate extra 8000 img for training\n",
    "        steps_per_epoch=300,\n",
    "        epochs=25,\n",
    "        validation_data=validation_generator,\n",
    "    #2000/32=62.5\n",
    "        validation_steps=63)"
   ]
  },
  {
   "cell_type": "code",
   "execution_count": null,
   "metadata": {},
   "outputs": [],
   "source": []
  }
 ],
 "metadata": {
  "kernelspec": {
   "display_name": "Python 3",
   "language": "python",
   "name": "python3"
  },
  "language_info": {
   "codemirror_mode": {
    "name": "ipython",
    "version": 3
   },
   "file_extension": ".py",
   "mimetype": "text/x-python",
   "name": "python",
   "nbconvert_exporter": "python",
   "pygments_lexer": "ipython3",
   "version": "3.6.8"
  },
  "varInspector": {
   "cols": {
    "lenName": 16,
    "lenType": 16,
    "lenVar": 40
   },
   "kernels_config": {
    "python": {
     "delete_cmd_postfix": "",
     "delete_cmd_prefix": "del ",
     "library": "var_list.py",
     "varRefreshCmd": "print(var_dic_list())"
    },
    "r": {
     "delete_cmd_postfix": ") ",
     "delete_cmd_prefix": "rm(",
     "library": "var_list.r",
     "varRefreshCmd": "cat(var_dic_list()) "
    }
   },
   "types_to_exclude": [
    "module",
    "function",
    "builtin_function_or_method",
    "instance",
    "_Feature"
   ],
   "window_display": false
  }
 },
 "nbformat": 4,
 "nbformat_minor": 2
}
